{
  "nbformat": 4,
  "nbformat_minor": 0,
  "metadata": {
    "colab": {
      "provenance": []
    },
    "kernelspec": {
      "name": "python3",
      "display_name": "Python 3"
    },
    "language_info": {
      "name": "python"
    }
  },
  "cells": [
    {
      "cell_type": "markdown",
      "source": [
        "##**TEAM:**\n",
        "* Uma Maheshwari [C0928443]\n",
        "* Jharana Adhikari [C0927442]\n",
        "* Yasaswin Palukuri [C0928450]\n",
        "* Raemil Corniel [C0922799]\n"
      ],
      "metadata": {
        "id": "NtOYMinKrpnX"
      }
    },
    {
      "cell_type": "markdown",
      "source": [
        "##**Topic**\n",
        "\n",
        "###Credit Card Fraud Detection\n",
        "\n",
        "####**Dataset Details:**\n",
        "\n",
        "Source: https://www.kaggle.com/datasets/mishra5001/credit-card/data\n",
        "\n",
        "**I. About:**\n",
        "- Get insights of the loan defaultes\n",
        "- Get insights into customer spending behavior and loan defaulters.\n",
        "- Identify patterns in credit usage, payments, and purchases.\n",
        "- Perform customer segmentation to group similar spending profiles.\n",
        "- Help financial institutions optimize marketing strategies and risk management.\n",
        "\n",
        "**II. Problem statement**\n",
        "- Financial institutions need to understand customer spending and repayment behavior to provide better credit offerings.\n",
        "- The dataset helps in identifying potential defaulters by analyzing credit usage patterns.\n",
        "- Dimensionality reduction (PCA) and clustering techniques can uncover hidden patterns in customer transactions.\n",
        "- The goal is to segment customers for personalized financial products and risk assessment.\n",
        "\n",
        "**III. Dataset Information**\n",
        "\n",
        "\n",
        "\n",
        "\n",
        "\n",
        "\n"
      ],
      "metadata": {
        "id": "c0X3v3-Wrqkz"
      }
    },
    {
      "cell_type": "markdown",
      "source": [
        "\n",
        "### **Assignment**\n",
        "\n",
        "\n",
        "Part I\n",
        "1. Sample a subset of the data based on class label\n",
        "2. Apply PCA and LDA and visualize the results\n",
        "3. Perform classification using naïve Bayes and interpret the results\n",
        "4. Perform classification using Logistic Regression and interpret the results\n",
        "5. Perform classification using SVMs and interpret the results\n",
        "\n",
        "6. Comment on which approaches might allow you to best identify the confidence of class assignments (e.g. how happy, or how sad rather than just a label)\n",
        "7. Plot results based on the approach in f.\n",
        "\n",
        "Part II\n",
        "1. Apply PCA and LDA. For PCA, plot the incremental gain in capturing the variance in the data for each successive principal component that is added and compare this with the subset of data in step 1.\n",
        "2. Perform classification using naïve Bayes and interpret and visualize the results\n",
        "3. Perform classification using Logistic Regression and interpret and visualize the results\n",
        "4. Perform classification using SVMs and interpret and visualize the results\n",
        "5. Discuss which classes are most similar / different with some justification given\n",
        "6. Explain how you might identify faces that are mislabeled in the dataset and provide an implementation.\n",
        "\n",
        "* Optional\n",
        "\n",
        "Based on a 7-dimensional vector of confidence values for face identity, plot the position of these in a 2D embedding. The “points” that are shown should be the actual face images within the plot.\n",
        "\n"
      ],
      "metadata": {
        "id": "xpoatBfkrInh"
      }
    },
    {
      "cell_type": "code",
      "execution_count": null,
      "metadata": {
        "id": "zEnv6UFgrH3i"
      },
      "outputs": [],
      "source": []
    }
  ]
}